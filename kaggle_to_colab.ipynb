{
  "nbformat": 4,
  "nbformat_minor": 0,
  "metadata": {
    "colab": {
      "name": "kaggle to colab.ipynb",
      "version": "0.3.2",
      "provenance": [],
      "collapsed_sections": [],
      "include_colab_link": true
    },
    "kernelspec": {
      "name": "python3",
      "display_name": "Python 3"
    }
  },
  "cells": [
    {
      "cell_type": "markdown",
      "metadata": {
        "id": "view-in-github",
        "colab_type": "text"
      },
      "source": [
        "<a href=\"https://colab.research.google.com/github/ArashRasti/Molecules-ML/blob/master/kaggle_to_colab.ipynb\" target=\"_parent\"><img src=\"https://colab.research.google.com/assets/colab-badge.svg\" alt=\"Open In Colab\"/></a>"
      ]
    },
    {
      "cell_type": "code",
      "metadata": {
        "id": "aQF3z9BAyVH3",
        "colab_type": "code",
        "outputId": "b899971a-4936-4c0a-93b0-5f5346a827a7",
        "colab": {
          "base_uri": "https://localhost:8080/",
          "height": 51
        }
      },
      "source": [
        "!pip install -U -q kaggle\n",
        "!mkdir -p ~/.kaggle\n"
      ],
      "execution_count": 0,
      "outputs": [
        {
          "output_type": "stream",
          "text": [
            "sample_data\n",
            "ls: cannot access '/root/*.*': No such file or directory\n"
          ],
          "name": "stdout"
        }
      ]
    },
    {
      "cell_type": "code",
      "metadata": {
        "id": "Cnrvb9KJynVG",
        "colab_type": "code",
        "outputId": "adf5ede2-edd9-45ae-ac8d-a1c966806681",
        "colab": {
          "resources": {
            "http://localhost:8080/nbextensions/google.colab/files.js": {
              "data": "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",
              "ok": true,
              "headers": [
                [
                  "content-type",
                  "application/javascript"
                ]
              ],
              "status": 200,
              "status_text": ""
            }
          },
          "base_uri": "https://localhost:8080/",
          "height": 91
        }
      },
      "source": [
        "from google.colab import files\n",
        "files.upload()"
      ],
      "execution_count": 0,
      "outputs": [
        {
          "output_type": "display_data",
          "data": {
            "text/html": [
              "\n",
              "     <input type=\"file\" id=\"files-5c9b56e3-74d1-4104-9c77-02879d916cb2\" name=\"files[]\" multiple disabled />\n",
              "     <output id=\"result-5c9b56e3-74d1-4104-9c77-02879d916cb2\">\n",
              "      Upload widget is only available when the cell has been executed in the\n",
              "      current browser session. Please rerun this cell to enable.\n",
              "      </output>\n",
              "      <script src=\"/nbextensions/google.colab/files.js\"></script> "
            ],
            "text/plain": [
              "<IPython.core.display.HTML object>"
            ]
          },
          "metadata": {
            "tags": []
          }
        },
        {
          "output_type": "stream",
          "text": [
            "Saving kaggle.json to kaggle.json\n"
          ],
          "name": "stdout"
        },
        {
          "output_type": "execute_result",
          "data": {
            "text/plain": [
              "{'kaggle.json': b'{\"username\":\"arash22\",\"key\":\"28023e2710e6864f175fc7797d857bbb\"}'}"
            ]
          },
          "metadata": {
            "tags": []
          },
          "execution_count": 7
        }
      ]
    },
    {
      "cell_type": "code",
      "metadata": {
        "id": "eMQpPdsJz1LA",
        "colab_type": "code",
        "outputId": "9dc38678-ca4b-49d1-c648-feb235a05608",
        "colab": {
          "base_uri": "https://localhost:8080/",
          "height": 170
        }
      },
      "source": [
        "!ls -a -l\n",
        "#!mkdir ./.kaggle \n",
        "#!rmdir .kaggle"
      ],
      "execution_count": 0,
      "outputs": [
        {
          "output_type": "stream",
          "text": [
            "total 28\n",
            "drwxr-xr-x 1 root root 4096 Jul 18 20:47 .\n",
            "drwxr-xr-x 1 root root 4096 Jul 18 20:03 ..\n",
            "drwxr-xr-x 1 root root 4096 Jul 11 16:05 .config\n",
            "drwxr-xr-x 2 root root 4096 Jul 18 20:42 kaggle\n",
            "drwxr-xr-x 2 root root 4096 Jul 18 20:47 .kaggle\n",
            "-rw-r--r-- 1 root root   63 Jul 18 20:38 kaggle.json\n",
            "drwxr-xr-x 1 root root 4096 Jul  3 16:14 sample_data\n",
            "mkdir: cannot create directory ‘./.kaggle’: File exists\n"
          ],
          "name": "stdout"
        }
      ]
    },
    {
      "cell_type": "code",
      "metadata": {
        "id": "Ah1HIjGh192s",
        "colab_type": "code",
        "outputId": "44e346e0-4e8e-4caa-b4f3-dfd49ff5f7ac",
        "colab": {
          "base_uri": "https://localhost:8080/",
          "height": 34
        }
      },
      "source": [
        "!cp kaggle.json ~/.kaggle/\n",
        "!ls ~/.kaggle\n",
        "\n",
        "!kaggle config set -n path -v{/content}\n",
        "!chmod 600 /root/.kaggle/kaggle.json"
      ],
      "execution_count": 0,
      "outputs": [
        {
          "output_type": "stream",
          "text": [
            "kaggle.json\n"
          ],
          "name": "stdout"
        }
      ]
    },
    {
      "cell_type": "code",
      "metadata": {
        "id": "ibxanyXS2LzX",
        "colab_type": "code",
        "outputId": "591504ab-2ea2-4721-a9d4-e8bfd96a5cbe",
        "colab": {
          "base_uri": "https://localhost:8080/",
          "height": 408
        }
      },
      "source": [
        "!kaggle datasets list"
      ],
      "execution_count": 0,
      "outputs": [
        {
          "output_type": "stream",
          "text": [
            "Warning: Your Kaggle API key is readable by other users on this system! To fix this, you can run 'chmod 600 /root/.kaggle/kaggle.json'\n",
            "ref                                                         title                                                size  lastUpdated          downloadCount  \n",
            "----------------------------------------------------------  --------------------------------------------------  -----  -------------------  -------------  \n",
            "AnalyzeBoston/crimes-in-boston                              Crimes in Boston                                     10MB  2018-09-04 17:56:03           1822  \n",
            "jealousleopard/goodreadsbooks                               Goodreads-books                                     632KB  2019-06-14 16:35:05           3265  \n",
            "r3w0p4/bournemouth-venues                                   Venues in Bournemouth                                 3KB  2019-07-08 14:26:48            301  \n",
            "new-york-city/new-york-city-current-job-postings            New York City Current Job Postings                    3MB  2019-07-14 22:06:11           3117  \n",
            "sudalairajkumar/chennai-water-management                    Chennai Water Management                             75KB  2019-06-19 03:42:44           2735  \n",
            "matheusfreitag/gas-prices-in-brazil                         Gas Prices in Brazil                                  3MB  2019-07-12 16:23:52           2311  \n",
            "wkirgsn/electric-motor-temperature                          Electric Motor Temperature                           47MB  2019-06-19 11:12:41           1503  \n",
            "jolasa/waves-measuring-buoys-data-mooloolaba                Waves Measuring Buoys Data                          599KB  2019-07-07 16:59:44            201  \n",
            "datafiniti/womens-shoes-prices                              Women's Shoe Prices                                  12MB  2019-06-24 22:50:14           7515  \n",
            "eliasdabbas/search-engine-results-flights-tickets-keywords  Search Engine Results - Flights & Tickets Keywords   21MB  2019-07-15 11:46:54            602  \n",
            "new-york-state/nys-environmental-remediation-sites          NYS Environmental Remediation Sites                   3MB  2019-07-18 08:15:18            459  \n",
            "r3w0p4/recorded-crime-data-at-police-force-area-level       Recorded Crime Data at the Police Force Area Level  300KB  2019-06-21 15:16:46            874  \n",
            "citizen-ds-ghana/health-facilities-gh                       Ghana Health Facilities                              84KB  2018-09-03 01:19:24            329  \n",
            "doit-intl/autotel-shared-car-locations                      Shared Cars Locations                                78MB  2019-01-10 13:06:00            358  \n",
            "Madgrades/uw-madison-courses                                UW Madison Courses and Grades 2006-2017              90MB  2018-05-15 18:58:25            938  \n",
            "inIT-OWL/vega-shrinkwrapper-runtofailure-data               Vega shrink-wrapper component degradation           408KB  2018-11-12 13:03:43            159  \n",
            "datafiniti/pizza-restaurants-and-the-pizza-they-sell        Pizza Restaurants and the Pizza They Sell           850KB  2019-05-30 00:21:21           2866  \n",
            "google/google-landmarks-dataset                             Google-Landmarks Dataset                            107MB  2019-07-18 12:00:32           9111  \n",
            "citylines/city-lines                                        Transit systems of world                              3MB  2019-03-25 16:53:05           1105  \n",
            "university-of-edinburgh/peace-agreements-dataset            Peace Agreements Dataset                              1MB  2018-03-05 16:39:50            333  \n"
          ],
          "name": "stdout"
        }
      ]
    },
    {
      "cell_type": "code",
      "metadata": {
        "id": "3Inq_7EU6yBu",
        "colab_type": "code",
        "outputId": "ecd7afa5-2952-43f6-a5cb-7ad1f5766231",
        "colab": {
          "base_uri": "https://localhost:8080/",
          "height": 289
        }
      },
      "source": [
        "!kaggle datasets list -s mol"
      ],
      "execution_count": 0,
      "outputs": [
        {
          "output_type": "stream",
          "text": [
            "ref                                               title                                       size  lastUpdated          downloadCount  \n",
            "------------------------------------------------  -----------------------------------------  -----  -------------------  -------------  \n",
            "burakhmmtgl/predict-molecular-properties          Predict Molecular Properties                98MB  2017-08-14 19:35:25            625  \n",
            "burakhmmtgl/energy-molecule                       Ground State Energies of 16,242 Molecules   51MB  2017-04-12 18:29:19            683  \n",
            "bigquery/ebi-chembl                               ChEMBL EBI Small Molecules Database         16GB  2019-02-12 00:36:10              0  \n",
            "artgor/molecules-generated-features               molecules_generated_features                 4GB  2019-06-17 10:11:05             58  \n",
            "scaomath/giba-molecular-features                  Giba molecular features                      1GB  2019-07-09 19:05:52            342  \n",
            "asauve/predicting-molecular-properties-bonds      Predicting Molecular Properties: Bonds      38MB  2019-07-02 21:23:44             78  \n",
            "bigironsphere/simple-molecular-geometry-features  Simple Molecular Geometry Features         212MB  2019-06-07 16:55:00             87  \n",
            "educatedguessing/molecules-structure-acsf         Molecules: Structure + ACSF                  1GB  2019-06-23 11:14:22             59  \n",
            "zython/molecular-protein-maps                     Molecular Protein Maps                       3GB  2018-04-12 08:45:18             32  \n",
            "oswinrh/indonesian-stoplist                       Indonesian Stoplist                          2KB  2016-10-24 12:36:43            501  \n",
            "mbonardi/molecule-model                           molecule-model                             144MB  2019-07-04 11:13:02              2  \n",
            "bhrt97/mollatech                                  Mollatech                                    6MB  2019-06-05 10:08:10              2  \n",
            "matthewkky3023/molecule3                          molecule3                                  281MB  2019-06-10 14:15:38              4  \n",
            "kyakovlev/molecular-features-for-testing          Molecular features for testing               1GB  2019-07-07 20:08:29              6  \n"
          ],
          "name": "stdout"
        }
      ]
    },
    {
      "cell_type": "code",
      "metadata": {
        "id": "Y825NmzZ8gMB",
        "colab_type": "code",
        "outputId": "aa868867-d0a1-4d1a-dd04-2fc121ea065b",
        "colab": {
          "base_uri": "https://localhost:8080/",
          "height": 527
        }
      },
      "source": [
        "!kaggle competitions download -c champs-scalar-coupling\n",
        "#!kaggle datasets download -d kazanova/sentiment140 -p /content"
      ],
      "execution_count": 0,
      "outputs": [
        {
          "output_type": "stream",
          "text": [
            "Downloading train.csv.zip to {/content}/competitions/champs-scalar-coupling\n",
            " 92% 41.0M/44.5M [00:00<00:00, 88.1MB/s]\n",
            "100% 44.5M/44.5M [00:00<00:00, 113MB/s] \n",
            "Downloading test.csv.zip to {/content}/competitions/champs-scalar-coupling\n",
            " 37% 5.00M/13.4M [00:00<00:00, 46.0MB/s]\n",
            "100% 13.4M/13.4M [00:00<00:00, 65.5MB/s]\n",
            "Downloading structures.zip to {/content}/competitions/champs-scalar-coupling\n",
            "100% 62.9M/62.9M [00:00<00:00, 89.2MB/s]\n",
            "\n",
            "Downloading structures.csv.zip to {/content}/competitions/champs-scalar-coupling\n",
            " 86% 42.0M/48.7M [00:00<00:00, 126MB/s]\n",
            "100% 48.7M/48.7M [00:00<00:00, 139MB/s]\n",
            "Downloading scalar_coupling_contributions.csv.zip to {/content}/competitions/champs-scalar-coupling\n",
            " 87% 75.0M/86.6M [00:00<00:00, 131MB/s]\n",
            "100% 86.6M/86.6M [00:00<00:00, 146MB/s]\n",
            "Downloading sample_submission.csv.zip to {/content}/competitions/champs-scalar-coupling\n",
            "  0% 0.00/5.31M [00:00<?, ?B/s]\n",
            "100% 5.31M/5.31M [00:00<00:00, 105MB/s]\n",
            "Downloading potential_energy.csv.zip to {/content}/competitions/champs-scalar-coupling\n",
            "  0% 0.00/497k [00:00<?, ?B/s]\n",
            "100% 497k/497k [00:00<00:00, 70.2MB/s]\n",
            "Downloading mulliken_charges.csv.zip to {/content}/competitions/champs-scalar-coupling\n",
            " 97% 9.00M/9.24M [00:00<00:00, 73.0MB/s]\n",
            "100% 9.24M/9.24M [00:00<00:00, 58.9MB/s]\n",
            "Downloading magnetic_shielding_tensors.csv.zip to {/content}/competitions/champs-scalar-coupling\n",
            " 66% 33.0M/49.8M [00:00<00:00, 38.9MB/s]\n",
            "100% 49.8M/49.8M [00:00<00:00, 83.6MB/s]\n",
            "Downloading dipole_moments.csv.zip to {/content}/competitions/champs-scalar-coupling\n",
            "  0% 0.00/965k [00:00<?, ?B/s]\n",
            "100% 965k/965k [00:00<00:00, 132MB/s]\n"
          ],
          "name": "stdout"
        }
      ]
    },
    {
      "cell_type": "markdown",
      "metadata": {
        "id": "3hQKYp-b8mfp",
        "colab_type": "text"
      },
      "source": [
        ""
      ]
    },
    {
      "cell_type": "code",
      "metadata": {
        "id": "WoDnJpP_8m9R",
        "colab_type": "code",
        "outputId": "98d77ac1-82c1-430f-b670-98d65bf3fb99",
        "colab": {
          "base_uri": "https://localhost:8080/",
          "height": 612
        }
      },
      "source": [
        "!ls ./{/content}/competitions/champs-scalar-coupling -a -l\n",
        "!ls -a -l\n",
        "!cp ./{/content}/competitions/champs-scalar-coupling/* ./kaggle/"
      ],
      "execution_count": 0,
      "outputs": [
        {
          "output_type": "stream",
          "text": [
            "total 329708\n",
            "drwxr-xr-x 2 root root     4096 Jul 18 21:17 .\n",
            "drwxr-xr-x 3 root root     4096 Jul 18 21:17 ..\n",
            "-rw-r--r-- 1 root root   988530 Jul 18 21:17 dipole_moments.csv.zip\n",
            "-rw-r--r-- 1 root root 52235766 Jul 18 21:17 magnetic_shielding_tensors.csv.zip\n",
            "-rw-r--r-- 1 root root  9687409 Jul 18 21:17 mulliken_charges.csv.zip\n",
            "-rw-r--r-- 1 root root   509409 Jul 18 21:17 potential_energy.csv.zip\n",
            "-rw-r--r-- 1 root root  5563499 Jul 18 21:17 sample_submission.csv.zip\n",
            "-rw-r--r-- 1 root root 90816289 Jul 18 21:17 scalar_coupling_contributions.csv.zip\n",
            "-rw-r--r-- 1 root root 51111346 Jul 18 21:17 structures.csv.zip\n",
            "-rw-r--r-- 1 root root 65989118 Jul 18 21:17 structures.zip\n",
            "-rw-r--r-- 1 root root 14033170 Jul 18 21:17 test.csv.zip\n",
            "-rw-r--r-- 1 root root 46651158 Jul 18 21:17 train.csv.zip\n",
            "total 32\n",
            "drwxr-xr-x 1 root root 4096 Jul 18 21:17  .\n",
            "drwxr-xr-x 1 root root 4096 Jul 18 20:03  ..\n",
            "drwxr-xr-x 3 root root 4096 Jul 18 21:17 '{'\n",
            "drwxr-xr-x 1 root root 4096 Jul 11 16:05  .config\n",
            "drwxr-xr-x 2 root root 4096 Jul 18 21:22  kaggle\n",
            "drwxr-xr-x 2 root root 4096 Jul 18 20:48  .kaggle\n",
            "-rw-r--r-- 1 root root   63 Jul 18 20:38  kaggle.json\n",
            "drwxr-xr-x 1 root root 4096 Jul  3 16:14  sample_data\n",
            "total 329704\n",
            "drwxr-xr-x 2 root root     4096 Jul 18 21:22 .\n",
            "drwxr-xr-x 1 root root     4096 Jul 18 21:17 ..\n",
            "-rw-r--r-- 1 root root   988530 Jul 18 21:22 dipole_moments.csv.zip\n",
            "-rw-r--r-- 1 root root 52235766 Jul 18 21:22 magnetic_shielding_tensors.csv.zip\n",
            "-rw-r--r-- 1 root root  9687409 Jul 18 21:22 mulliken_charges.csv.zip\n",
            "-rw-r--r-- 1 root root   509409 Jul 18 21:22 potential_energy.csv.zip\n",
            "-rw-r--r-- 1 root root  5563499 Jul 18 21:22 sample_submission.csv.zip\n",
            "-rw-r--r-- 1 root root 90816289 Jul 18 21:22 scalar_coupling_contributions.csv.zip\n",
            "-rw-r--r-- 1 root root 51111346 Jul 18 21:22 structures.csv.zip\n",
            "-rw-r--r-- 1 root root 65989118 Jul 18 21:22 structures.zip\n",
            "-rw-r--r-- 1 root root 14033170 Jul 18 21:22 test.csv.zip\n",
            "-rw-r--r-- 1 root root 46651158 Jul 18 21:22 train.csv.zip\n"
          ],
          "name": "stdout"
        }
      ]
    },
    {
      "cell_type": "code",
      "metadata": {
        "id": "HyI6RA7WBDwm",
        "colab_type": "code",
        "outputId": "415a5fac-8be2-46b3-a71e-713f6bcebf10",
        "colab": {
          "base_uri": "https://localhost:8080/",
          "height": 901
        }
      },
      "source": [
        "%cd kaggle\n",
        "!rm structures.zip\n",
        "!unzip \\*.zip\n",
        "!ls  -a -l"
      ],
      "execution_count": 0,
      "outputs": [
        {
          "output_type": "stream",
          "text": [
            "[Errno 2] No such file or directory: 'kaggle'\n",
            "/content/kaggle\n",
            "rm: cannot remove 'structures.zip': No such file or directory\n",
            "Archive:  mulliken_charges.csv.zip\n",
            "  inflating: mulliken_charges.csv    \n",
            "\n",
            "Archive:  train.csv.zip\n",
            "  inflating: train.csv               \n",
            "\n",
            "Archive:  dipole_moments.csv.zip\n",
            "  inflating: dipole_moments.csv      \n",
            "\n",
            "Archive:  scalar_coupling_contributions.csv.zip\n",
            "  inflating: scalar_coupling_contributions.csv  \n",
            "\n",
            "Archive:  sample_submission.csv.zip\n",
            "  inflating: sample_submission.csv   \n",
            "\n",
            "Archive:  test.csv.zip\n",
            "  inflating: test.csv                \n",
            "\n",
            "Archive:  potential_energy.csv.zip\n",
            "  inflating: potential_energy.csv    \n",
            "\n",
            "Archive:  structures.csv.zip\n",
            "  inflating: structures.csv          \n",
            "\n",
            "Archive:  magnetic_shielding_tensors.csv.zip\n",
            "  inflating: magnetic_shielding_tensors.csv  \n",
            "\n",
            "9 archives were successfully processed.\n",
            "total 1178284\n",
            "drwxr-xr-x 2 root root      4096 Jul 18 22:33 .\n",
            "drwxr-xr-x 1 root root      4096 Jul 18 22:27 ..\n",
            "---------- 1 root root   3295704 May 29 16:34 dipole_moments.csv\n",
            "-rw-r--r-- 1 root root    988530 Jul 18 22:27 dipole_moments.csv.zip\n",
            "---------- 1 root root 136330425 May 29 16:34 magnetic_shielding_tensors.csv\n",
            "-rw-r--r-- 1 root root  52235766 Jul 18 22:27 magnetic_shielding_tensors.csv.zip\n",
            "---------- 1 root root  44004703 May 29 16:34 mulliken_charges.csv\n",
            "-rw-r--r-- 1 root root   9687409 Jul 18 22:27 mulliken_charges.csv.zip\n",
            "---------- 1 root root   2285646 May 29 16:34 potential_energy.csv\n",
            "-rw-r--r-- 1 root root    509409 Jul 18 22:27 potential_energy.csv.zip\n",
            "---------- 1 root root  25055448 May 29 16:34 sample_submission.csv\n",
            "-rw-r--r-- 1 root root   5563499 Jul 18 22:27 sample_submission.csv.zip\n",
            "---------- 1 root root 293159210 May 29 16:34 scalar_coupling_contributions.csv\n",
            "-rw-r--r-- 1 root root  90816289 Jul 18 22:27 scalar_coupling_contributions.csv.zip\n",
            "---------- 1 root root 141716726 May 29 16:34 structures.csv\n",
            "-rw-r--r-- 1 root root  51111346 Jul 18 22:27 structures.csv.zip\n",
            "---------- 1 root root  87888660 May 29 16:34 test.csv\n",
            "-rw-r--r-- 1 root root  14033170 Jul 18 22:27 test.csv.zip\n",
            "---------- 1 root root 201175375 May 29 16:34 train.csv\n",
            "-rw-r--r-- 1 root root  46651158 Jul 18 22:28 train.csv.zip\n"
          ],
          "name": "stdout"
        }
      ]
    },
    {
      "cell_type": "code",
      "metadata": {
        "id": "k-IEzy2wJh8B",
        "colab_type": "code",
        "outputId": "a5d061ba-a89e-4d45-91b6-af28ec2291c4",
        "colab": {
          "base_uri": "https://localhost:8080/",
          "height": 122
        }
      },
      "source": [
        "from google.colab import drive\n",
        "drive.mount('/content/drive')"
      ],
      "execution_count": 0,
      "outputs": [
        {
          "output_type": "stream",
          "text": [
            "Go to this URL in a browser: https://accounts.google.com/o/oauth2/auth?client_id=947318989803-6bn6qk8qdgf4n4g3pfee6491hc0brc4i.apps.googleusercontent.com&redirect_uri=urn%3Aietf%3Awg%3Aoauth%3A2.0%3Aoob&scope=email%20https%3A%2F%2Fwww.googleapis.com%2Fauth%2Fdocs.test%20https%3A%2F%2Fwww.googleapis.com%2Fauth%2Fdrive%20https%3A%2F%2Fwww.googleapis.com%2Fauth%2Fdrive.photos.readonly%20https%3A%2F%2Fwww.googleapis.com%2Fauth%2Fpeopleapi.readonly&response_type=code\n",
            "\n",
            "Enter your authorization code:\n",
            "··········\n",
            "Mounted at /content/drive\n"
          ],
          "name": "stdout"
        }
      ]
    },
    {
      "cell_type": "code",
      "metadata": {
        "id": "x2WxYH-hObRI",
        "colab_type": "code",
        "outputId": "d84de847-5426-4336-fbf2-73a3a1062c7d",
        "colab": {
          "base_uri": "https://localhost:8080/",
          "height": 340
        }
      },
      "source": [
        "%cd ..  \n",
        "!ls\n",
        "#!ls drive/'My Drive'/'Colab Notebooks'\n",
        "!mkdir drive/'My Drive'/'Colab Notebooks'/kaggle_Mole1\n",
        "!cp ./kaggle/* drive/'My Drive'/'Colab Notebooks'/kaggle_Mole1\n",
        "!ls drive/'My Drive'/'Colab Notebooks'/kaggle_Mole1\n",
        "!du  drive/'My Drive'/'Colab Notebooks'/kaggle_Mole1/*.zip -sh\n"
      ],
      "execution_count": 0,
      "outputs": [
        {
          "output_type": "stream",
          "text": [
            "'{'   drive   kaggle   kaggle.json   sample_data\n",
            "dipole_moments.csv\t\t    sample_submission.csv.zip\n",
            "dipole_moments.csv.zip\t\t    scalar_coupling_contributions.csv\n",
            "magnetic_shielding_tensors.csv\t    scalar_coupling_contributions.csv.zip\n",
            "magnetic_shielding_tensors.csv.zip  structures.csv\n",
            "mulliken_charges.csv\t\t    structures.csv.zip\n",
            "mulliken_charges.csv.zip\t    test.csv\n",
            "potential_energy.csv\t\t    test.csv.zip\n",
            "potential_energy.csv.zip\t    train.csv\n",
            "sample_submission.csv\t\t    train.csv.zip\n",
            "966K\tdrive/My Drive/Colab Notebooks/kaggle_Mole1/dipole_moments.csv.zip\n",
            "50M\tdrive/My Drive/Colab Notebooks/kaggle_Mole1/magnetic_shielding_tensors.csv.zip\n",
            "9.3M\tdrive/My Drive/Colab Notebooks/kaggle_Mole1/mulliken_charges.csv.zip\n",
            "498K\tdrive/My Drive/Colab Notebooks/kaggle_Mole1/potential_energy.csv.zip\n",
            "5.4M\tdrive/My Drive/Colab Notebooks/kaggle_Mole1/sample_submission.csv.zip\n",
            "87M\tdrive/My Drive/Colab Notebooks/kaggle_Mole1/scalar_coupling_contributions.csv.zip\n",
            "49M\tdrive/My Drive/Colab Notebooks/kaggle_Mole1/structures.csv.zip\n",
            "14M\tdrive/My Drive/Colab Notebooks/kaggle_Mole1/test.csv.zip\n",
            "45M\tdrive/My Drive/Colab Notebooks/kaggle_Mole1/train.csv.zip\n"
          ],
          "name": "stdout"
        }
      ]
    },
    {
      "cell_type": "code",
      "metadata": {
        "id": "1FBKzJNOUK-v",
        "colab_type": "code",
        "outputId": "64e9d676-95c2-4c63-ce3a-2a522de1226e",
        "colab": {
          "base_uri": "https://localhost:8080/",
          "height": 34
        }
      },
      "source": [
        "!ls\n"
      ],
      "execution_count": 0,
      "outputs": [
        {
          "output_type": "stream",
          "text": [
            "sample_data\n"
          ],
          "name": "stdout"
        }
      ]
    }
  ]
}